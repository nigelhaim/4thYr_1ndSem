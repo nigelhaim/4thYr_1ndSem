{
 "cells": [
  {
   "cell_type": "code",
   "execution_count": 72,
   "metadata": {},
   "outputs": [],
   "source": [
    "# MP"
   ]
  },
  {
   "cell_type": "code",
   "execution_count": 73,
   "metadata": {},
   "outputs": [],
   "source": [
    "## Imports"
   ]
  },
  {
   "cell_type": "code",
   "execution_count": 74,
   "metadata": {},
   "outputs": [],
   "source": [
    "from PIL import Image, ImageDraw, ImageFont\n",
    "import matplotlib.pyplot as plt\n",
    "import matplotlib.patches as patches\n",
    "import matplotlib.path as path"
   ]
  },
  {
   "cell_type": "code",
   "execution_count": 75,
   "metadata": {},
   "outputs": [],
   "source": [
    "vertices =[\n",
    "    (300, 100),\n",
    "    #Star\n",
    "    (280, 80),\n",
    "    (300, 60),\n",
    "    (320, 80),\n",
    "    (300, 100),\n",
    "\n",
    "            \n",
    "]\n",
    "\n",
    "codes = [\n",
    "    path.Path.MOVETO,#Start\n",
    "    path.Path.LINETO,\n",
    "    path.Path.LINETO,\n",
    "    path.Path.LINETO,\n",
    "    path.Path.LINETO,\n",
    "\n",
    "\n",
    "\n",
    "\n",
    "]\n",
    "p = path.Path(vertices, codes)\n",
    "#fill th colors\n",
    "\n",
    "\n",
    "patch = patches.PathPatch(p, facecolor='yellow', lw=2, edgecolor='yellow')\n"
   ]
  },
  {
   "cell_type": "code",
   "execution_count": 76,
   "metadata": {},
   "outputs": [],
   "source": [
    "vertices =[\n",
    "   #Triangle\n",
    "   (300, 100),\n",
    "    (250, 250),\n",
    "    (270, 250),\n",
    "    (200, 400),\n",
    "\n",
    "\n",
    "\n",
    "]\n",
    "\n",
    "\n",
    "codes = [\n",
    "\n",
    "    #Triangle\n",
    "    path.Path.MOVETO,#Start\n",
    "    path.Path.LINETO,\n",
    "    path.Path.LINETO,\n",
    "    path.Path.LINETO,\n",
    "\n",
    "\n",
    "\n",
    "]\n",
    "\n",
    "p = path.Path(vertices, codes)\n",
    "#fill th colors\n",
    "\n",
    "\n",
    "patch2 = patches.PathPatch(p, facecolor='green', lw=2, edgecolor='green')"
   ]
  },
  {
   "cell_type": "code",
   "execution_count": 77,
   "metadata": {},
   "outputs": [
    {
     "data": {
      "image/png": "[encoded data removed]",
      "text/plain": [
       "<Figure size 640x480 with 1 Axes>"
      ]
     },
     "metadata": {},
     "output_type": "display_data"
    }
   ],
   "source": [
    "fig, ax = plt.subplots()\n",
    "ax.add_patch(patch)\n",
    "ax.add_patch(patch2)\n",
    "#INCLUDE NEGATIVES \n",
    "ax.set_xlim(-500, 700)\n",
    "ax.set_ylim(-500, 200)\n",
    "plt.show()"
   ]
  }
 ],
 "metadata": {
  "kernelspec": {
   "display_name": "Python 3",
   "language": "python",
   "name": "python3"
  },
  "language_info": {
   "codemirror_mode": {
    "name": "ipython",
    "version": 3
   },
   "file_extension": ".py",
   "mimetype": "text/x-python",
   "name": "python",
   "nbconvert_exporter": "python",
   "pygments_lexer": "ipython3",
   "version": "3.10.9"
  }
 },
 "nbformat": 4,
 "nbformat_minor": 2
}
