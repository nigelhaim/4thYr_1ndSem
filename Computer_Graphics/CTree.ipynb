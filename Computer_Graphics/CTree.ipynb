{
 "cells": [
  {
   "cell_type": "code",
   "execution_count": 67,
   "metadata": {},
   "outputs": [],
   "source": [
    "# MP"
   ]
  },
  {
   "cell_type": "code",
   "execution_count": 68,
   "metadata": {},
   "outputs": [],
   "source": [
    "## Imports"
   ]
  },
  {
   "cell_type": "code",
   "execution_count": 69,
   "metadata": {},
   "outputs": [],
   "source": [
    "from PIL import Image, ImageDraw, ImageFont\n",
    "import matplotlib.pyplot as plt\n",
    "import matplotlib.patches as patches\n",
    "import matplotlib.path as path"
   ]
  },
  {
   "cell_type": "code",
   "execution_count": 70,
   "metadata": {},
   "outputs": [],
   "source": [
    "vertices =[\n",
    "    (300, 100),\n",
    "    #Star\n",
    "    (280, 80),\n",
    "    (300, 60),\n",
    "    (320, 80),\n",
    "    (300, 100),\n",
    "\n",
    "            \n",
    "]\n",
    "\n",
    "codes = [\n",
    "    path.Path.MOVETO,#Start\n",
    "    path.Path.LINETO,\n",
    "    path.Path.LINETO,\n",
    "    path.Path.LINETO,\n",
    "    path.Path.LINETO,\n",
    "\n",
    "\n",
    "\n",
    "\n",
    "]\n",
    "p = path.Path(vertices, codes)\n",
    "#fill th colors\n",
    "\n",
    "\n",
    "patch = patches.PathPatch(p, facecolor='yellow', lw=2, edgecolor='yellow')\n"
   ]
  },
  {
   "cell_type": "code",
   "execution_count": 71,
   "metadata": {},
   "outputs": [
    {
     "ename": "ValueError",
     "evalue": "The first element of 'code' must be equal to 'MOVETO' (1).  Your first code is 2",
     "output_type": "error",
     "traceback": [
      "\u001b[1;31m---------------------------------------------------------------------------\u001b[0m",
      "\u001b[1;31mValueError\u001b[0m                                Traceback (most recent call last)",
      "Cell \u001b[1;32mIn[71], line 23\u001b[0m\n\u001b[0;32m      1\u001b[0m vertices \u001b[38;5;241m=\u001b[39m[\n\u001b[0;32m      2\u001b[0m    \u001b[38;5;66;03m#Triangle\u001b[39;00m\n\u001b[0;32m      3\u001b[0m     (\u001b[38;5;241m250\u001b[39m, \u001b[38;5;241m250\u001b[39m),\n\u001b[1;32m   (...)\u001b[0m\n\u001b[0;32m      8\u001b[0m \n\u001b[0;32m      9\u001b[0m ]\n\u001b[0;32m     12\u001b[0m codes \u001b[38;5;241m=\u001b[39m [\n\u001b[0;32m     13\u001b[0m \n\u001b[0;32m     14\u001b[0m     \u001b[38;5;66;03m#Triangle\u001b[39;00m\n\u001b[1;32m   (...)\u001b[0m\n\u001b[0;32m     20\u001b[0m \n\u001b[0;32m     21\u001b[0m ]\n\u001b[1;32m---> 23\u001b[0m p \u001b[38;5;241m=\u001b[39m \u001b[43mpath\u001b[49m\u001b[38;5;241;43m.\u001b[39;49m\u001b[43mPath\u001b[49m\u001b[43m(\u001b[49m\u001b[43mvertices\u001b[49m\u001b[43m,\u001b[49m\u001b[43m \u001b[49m\u001b[43mcodes\u001b[49m\u001b[43m)\u001b[49m\n\u001b[0;32m     24\u001b[0m \u001b[38;5;66;03m#fill th colors\u001b[39;00m\n\u001b[0;32m     27\u001b[0m patch2 \u001b[38;5;241m=\u001b[39m patches\u001b[38;5;241m.\u001b[39mPathPatch(p, facecolor\u001b[38;5;241m=\u001b[39m\u001b[38;5;124m'\u001b[39m\u001b[38;5;124mgreen\u001b[39m\u001b[38;5;124m'\u001b[39m, lw\u001b[38;5;241m=\u001b[39m\u001b[38;5;241m2\u001b[39m, edgecolor\u001b[38;5;241m=\u001b[39m\u001b[38;5;124m'\u001b[39m\u001b[38;5;124mgreen\u001b[39m\u001b[38;5;124m'\u001b[39m)\n",
      "File \u001b[1;32mc:\\Users\\nigel\\AppData\\Local\\Programs\\Python\\Python310\\lib\\site-packages\\matplotlib\\path.py:140\u001b[0m, in \u001b[0;36mPath.__init__\u001b[1;34m(self, vertices, codes, _interpolation_steps, closed, readonly)\u001b[0m\n\u001b[0;32m    135\u001b[0m         \u001b[38;5;28;01mraise\u001b[39;00m \u001b[38;5;167;01mValueError\u001b[39;00m(\u001b[38;5;124m\"\u001b[39m\u001b[38;5;124m'\u001b[39m\u001b[38;5;124mcodes\u001b[39m\u001b[38;5;124m'\u001b[39m\u001b[38;5;124m must be a 1D list or array with the \u001b[39m\u001b[38;5;124m\"\u001b[39m\n\u001b[0;32m    136\u001b[0m                          \u001b[38;5;124m\"\u001b[39m\u001b[38;5;124msame length of \u001b[39m\u001b[38;5;124m'\u001b[39m\u001b[38;5;124mvertices\u001b[39m\u001b[38;5;124m'\u001b[39m\u001b[38;5;124m. \u001b[39m\u001b[38;5;124m\"\u001b[39m\n\u001b[0;32m    137\u001b[0m                          \u001b[38;5;124mf\u001b[39m\u001b[38;5;124m\"\u001b[39m\u001b[38;5;124mYour vertices have shape \u001b[39m\u001b[38;5;132;01m{\u001b[39;00mvertices\u001b[38;5;241m.\u001b[39mshape\u001b[38;5;132;01m}\u001b[39;00m\u001b[38;5;124m \u001b[39m\u001b[38;5;124m\"\u001b[39m\n\u001b[0;32m    138\u001b[0m                          \u001b[38;5;124mf\u001b[39m\u001b[38;5;124m\"\u001b[39m\u001b[38;5;124mbut your codes have shape \u001b[39m\u001b[38;5;132;01m{\u001b[39;00mcodes\u001b[38;5;241m.\u001b[39mshape\u001b[38;5;132;01m}\u001b[39;00m\u001b[38;5;124m\"\u001b[39m)\n\u001b[0;32m    139\u001b[0m     \u001b[38;5;28;01mif\u001b[39;00m \u001b[38;5;28mlen\u001b[39m(codes) \u001b[38;5;129;01mand\u001b[39;00m codes[\u001b[38;5;241m0\u001b[39m] \u001b[38;5;241m!=\u001b[39m \u001b[38;5;28mself\u001b[39m\u001b[38;5;241m.\u001b[39mMOVETO:\n\u001b[1;32m--> 140\u001b[0m         \u001b[38;5;28;01mraise\u001b[39;00m \u001b[38;5;167;01mValueError\u001b[39;00m(\u001b[38;5;124m\"\u001b[39m\u001b[38;5;124mThe first element of \u001b[39m\u001b[38;5;124m'\u001b[39m\u001b[38;5;124mcode\u001b[39m\u001b[38;5;124m'\u001b[39m\u001b[38;5;124m must be equal \u001b[39m\u001b[38;5;124m\"\u001b[39m\n\u001b[0;32m    141\u001b[0m                          \u001b[38;5;124mf\u001b[39m\u001b[38;5;124m\"\u001b[39m\u001b[38;5;124mto \u001b[39m\u001b[38;5;124m'\u001b[39m\u001b[38;5;124mMOVETO\u001b[39m\u001b[38;5;124m'\u001b[39m\u001b[38;5;124m (\u001b[39m\u001b[38;5;132;01m{\u001b[39;00m\u001b[38;5;28mself\u001b[39m\u001b[38;5;241m.\u001b[39mMOVETO\u001b[38;5;132;01m}\u001b[39;00m\u001b[38;5;124m).  \u001b[39m\u001b[38;5;124m\"\u001b[39m\n\u001b[0;32m    142\u001b[0m                          \u001b[38;5;124mf\u001b[39m\u001b[38;5;124m\"\u001b[39m\u001b[38;5;124mYour first code is \u001b[39m\u001b[38;5;132;01m{\u001b[39;00mcodes[\u001b[38;5;241m0\u001b[39m]\u001b[38;5;132;01m}\u001b[39;00m\u001b[38;5;124m\"\u001b[39m)\n\u001b[0;32m    143\u001b[0m \u001b[38;5;28;01melif\u001b[39;00m closed \u001b[38;5;129;01mand\u001b[39;00m \u001b[38;5;28mlen\u001b[39m(vertices):\n\u001b[0;32m    144\u001b[0m     codes \u001b[38;5;241m=\u001b[39m np\u001b[38;5;241m.\u001b[39mempty(\u001b[38;5;28mlen\u001b[39m(vertices), dtype\u001b[38;5;241m=\u001b[39m\u001b[38;5;28mself\u001b[39m\u001b[38;5;241m.\u001b[39mcode_type)\n",
      "\u001b[1;31mValueError\u001b[0m: The first element of 'code' must be equal to 'MOVETO' (1).  Your first code is 2"
     ]
    }
   ],
   "source": [
    "vertices =[\n",
    "   #Triangle\n",
    "   (300, 100),\n",
    "    (250, 250),\n",
    "    (270, 250),\n",
    "    (200, 400),\n",
    "\n",
    "\n",
    "\n",
    "]\n",
    "\n",
    "\n",
    "codes = [\n",
    "\n",
    "    #Triangle\n",
    "    path.Path.MOVETO,#Start\n",
    "    path.Path.LINETO,\n",
    "    path.Path.LINETO,\n",
    "    path.Path.LINETO,\n",
    "\n",
    "\n",
    "\n",
    "]\n",
    "\n",
    "p = path.Path(vertices, codes)\n",
    "#fill th colors\n",
    "\n",
    "\n",
    "patch2 = patches.PathPatch(p, facecolor='green', lw=2, edgecolor='green')"
   ]
  },
  {
   "cell_type": "code",
   "execution_count": 51,
   "metadata": {},
   "outputs": [
    {
     "data": {
      "image/png": "[encoded data removed]",
      "text/plain": [
       "<Figure size 640x480 with 1 Axes>"
      ]
     },
     "metadata": {},
     "output_type": "display_data"
    }
   ],
   "source": [
    "fig, ax = plt.subplots()\n",
    "ax.add_patch(patch)\n",
    "ax.add_patch(patch2)\n",
    "#INCLUDE NEGATIVES \n",
    "ax.set_xlim(-500, 700)\n",
    "ax.set_ylim(-500, 200)\n",
    "plt.show()"
   ]
  }
 ],
 "metadata": {
  "kernelspec": {
   "display_name": "Python 3",
   "language": "python",
   "name": "python3"
  },
  "language_info": {
   "codemirror_mode": {
    "name": "ipython",
    "version": 3
   },
   "file_extension": ".py",
   "mimetype": "text/x-python",
   "name": "python",
   "nbconvert_exporter": "python",
   "pygments_lexer": "ipython3",
   "version": "3.10.9"
  }
 },
 "nbformat": 4,
 "nbformat_minor": 2
}
