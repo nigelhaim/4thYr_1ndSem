{
 "cells": [
  {
   "cell_type": "markdown",
   "metadata": {},
   "source": [
    "# MP2"
   ]
  },
  {
   "cell_type": "markdown",
   "metadata": {},
   "source": [
    "30) Draw the given Christmas tree (as shown below) using GeneralPath class. \n",
    "\n",
    "Assume the following dimensions:\n",
    "- Start Point A(300, 100)\n",
    "- Christmas tree dimension: width = 300, height = 450, horizontal offset = 20, vertically divided\n",
    "equally\n",
    "- Base dimension: width = 30, height = 30, located below tree and at its width midpoint\n",
    "- Star dimension: equal sides, vertical distance from point A = 20, horizontal distance from\n",
    "point A = 20"
   ]
  },
  {
   "cell_type": "markdown",
   "metadata": {},
   "source": [
    "## Imports "
   ]
  },
  {
   "cell_type": "code",
   "execution_count": 1,
   "metadata": {},
   "outputs": [],
   "source": [
    "from PIL import Image, ImageDraw, ImageFont\n",
    "import matplotlib.pyplot as plt\n",
    "import matplotlib.patches as patches\n",
    "import matplotlib.path as path"
   ]
  },
  {
   "cell_type": "code",
   "execution_count": 2,
   "metadata": {},
   "outputs": [],
   "source": [
    "tree_vertices = [\n",
    "    # Create the tree\n",
    "    (300, 100), # Starting point and create first triangle\n",
    "    (250, -50),\n",
    "    (350,  -50),\n",
    "    (300, 100), # Ending point of creating first triangle\n",
    "\n",
    "    (300, -25), # Starting point and create second triangle\n",
    "    (190, -200),\n",
    "    (410, -200), # Ending point of creating second triangle\n",
    "\n",
    "    (300, -100), # Starting point and create third triangle\n",
    "    (140, -350),\n",
    "    (460, -350), # Ending point of creating third triangle\n",
    "\n",
    "]\n",
    "\n",
    "tree_code = [\n",
    "    path.Path.MOVETO,   \n",
    "    path.Path.LINETO,\n",
    "    path.Path.LINETO,\n",
    "    path.Path.LINETO,\n",
    "\n",
    "    path.Path.MOVETO,\n",
    "    path.Path.LINETO,\n",
    "    path.Path.LINETO,\n",
    "\n",
    "    path.Path.MOVETO,\n",
    "    path.Path.LINETO,\n",
    "    path.Path.LINETO,\n",
    "\n",
    "\n",
    "]\n",
    "base_vertices = [\n",
    "    # Create the base\n",
    "    (315, -350), # Starting point and create the base \n",
    "    (315, -380), \n",
    "    (285, -380),\n",
    "    (285, -350), # Ending point of creating the base\n",
    "]\n",
    "\n",
    "base_code = [\n",
    "    path.Path.MOVETO,\n",
    "    path.Path.LINETO,\n",
    "    path.Path.LINETO,\n",
    "    path.Path.LINETO,\n",
    "\n",
    "]\n",
    "\n",
    "star_vertices = [\n",
    "    # Create the star\n",
    "    (300, 100), #Starting point and create the star\n",
    "    (320, 120),\n",
    "    (300, 140),\n",
    "    (280, 120),\n",
    "    (300, 100), #Ending point of creating the star\n",
    "\n",
    "\n",
    "]\n",
    "\n",
    "star_code = [\n",
    "    path.Path.MOVETO,\n",
    "    path.Path.LINETO,\n",
    "    path.Path.LINETO,\n",
    "    path.Path.LINETO,\n",
    "    path.Path.LINETO,\n",
    "    \n",
    "]"
   ]
  },
  {
   "cell_type": "code",
   "execution_count": 3,
   "metadata": {},
   "outputs": [],
   "source": [
    "tree_patch = path.Path(tree_vertices, tree_code)\n",
    "tree_patch = patches.PathPatch(tree_patch, facecolor='lightgreen', lw=2, edgecolor='lightgreen')\n",
    "\n",
    "base_patch = path.Path(base_vertices, base_code)\n",
    "base_patch = patches.PathPatch(base_patch, facecolor='lightgrey', lw=2, edgecolor='lightgray')\n",
    "\n",
    "star_patch = path.Path(star_vertices, star_code)   \n",
    "star_patch = patches.PathPatch(star_patch, facecolor='yellow', lw=2, edgecolor='yellow')"
   ]
  },
  {
   "cell_type": "code",
   "execution_count": 4,
   "metadata": {},
   "outputs": [
    {
     "data": {
      "image/png": "[encoded data removed]",
      "text/plain": [
       "<Figure size 640x480 with 1 Axes>"
      ]
     },
     "metadata": {},
     "output_type": "display_data"
    }
   ],
   "source": [
    "fig, ax = plt.subplots()\n",
    "ax.add_patch(tree_patch)\n",
    "ax.add_patch(base_patch)\n",
    "ax.add_patch(star_patch)\n",
    "ax.set_xlim(-300, 700)\n",
    "ax.set_ylim(-500, 700)\n",
    "plt.show()"
   ]
  }
 ],
 "metadata": {
  "kernelspec": {
   "display_name": "Python 3",
   "language": "python",
   "name": "python3"
  },
  "language_info": {
   "codemirror_mode": {
    "name": "ipython",
    "version": 3
   },
   "file_extension": ".py",
   "mimetype": "text/x-python",
   "name": "python",
   "nbconvert_exporter": "python",
   "pygments_lexer": "ipython3",
   "version": "3.10.9"
  }
 },
 "nbformat": 4,
 "nbformat_minor": 2
}
