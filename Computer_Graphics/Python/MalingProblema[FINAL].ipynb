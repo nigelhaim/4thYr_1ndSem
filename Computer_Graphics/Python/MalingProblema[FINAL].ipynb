{
 "cells": [
  {
   "cell_type": "markdown",
   "metadata": {},
   "source": [
    "# MP"
   ]
  },
  {
   "cell_type": "code",
   "execution_count": 1,
   "metadata": {},
   "outputs": [],
   "source": [
    "# 1: (20)  Draw the given cross in as shown below using lines and quadCurves. Assume the following\n",
    "# dimensions:\n",
    "# Start Point A(250, 280)\n",
    "# AB = 100, Horizontal Distance from point B to point C = 40, Vertical Distance from point B to\n",
    "# point C = 40, CD = 20, Horizontal Distance from point D to point E = 40, Vertical Distance from\n",
    "# point D to point E = 40, EF = 100\n",
    "# Repeat the same dimension to other cross parts."
   ]
  },
  {
   "cell_type": "markdown",
   "metadata": {},
   "source": [
    "## Imports"
   ]
  },
  {
   "cell_type": "code",
   "execution_count": 2,
   "metadata": {},
   "outputs": [],
   "source": [
    "from PIL import Image, ImageDraw, ImageFont\n",
    "import matplotlib.pyplot as plt\n",
    "import matplotlib.patches as patches\n",
    "import matplotlib.path as path"
   ]
  },
  {
   "cell_type": "markdown",
   "metadata": {},
   "source": [
    "## Global Variables"
   ]
  },
  {
   "cell_type": "code",
   "execution_count": 3,
   "metadata": {},
   "outputs": [],
   "source": [
    "vertices= [\n",
    "    (250, 280), #Point A \n",
    "    (350, 280), #Point B\n",
    "    (390, 280), (390, 320), #Point C \n",
    "    (390, 360), (350, 360),\n",
    "    (250, 360),\n",
    "    (250, 460),\n",
    "    (250, 500), (210, 500),\n",
    "    (170, 500), (170, 460),\n",
    "    (170, 360),\n",
    "    (70, 360),\n",
    "    (30, 360), (30, 320),\n",
    "    (30, 280), (70, 280),\n",
    "    (170, 280),\n",
    "    (170, 180),\n",
    "    (170, 140), (210, 140),\n",
    "    (250, 140), (250, 180),\n",
    "    (250, 280)\n",
    "]\n",
    "\n",
    "code = [\n",
    "    path.Path.MOVETO,\n",
    "    path.Path.LINETO,#Line AB\n",
    "    path.Path.CURVE3, path.Path.CURVE3,\n",
    "    path.Path.CURVE3, path.Path.CURVE3,\n",
    "    path.Path.LINETO,\n",
    "    path.Path.LINETO,\n",
    "    path.Path.CURVE3, path.Path.CURVE3,\n",
    "    path.Path.CURVE3, path.Path.CURVE3,\n",
    "    path.Path.LINETO,\n",
    "    path.Path.LINETO,\n",
    "    path.Path.CURVE3, path.Path.CURVE3,\n",
    "    path.Path.CURVE3, path.Path.CURVE3,\n",
    "    path.Path.LINETO,\n",
    "    path.Path.LINETO,\n",
    "    path.Path.CURVE3, path.Path.CURVE3,\n",
    "    path.Path.CURVE3, path.Path.CURVE3,\n",
    "    path.Path.LINETO\n",
    "\n",
    "]\n",
    "patch = path.Path(vertices, code)\n",
    "patch = patches.PathPatch(patch, facecolor='none', lw=2)\n"
   ]
  },
  {
   "cell_type": "code",
   "execution_count": 4,
   "metadata": {},
   "outputs": [
    {
     "data": {
      "image/png": "[encoded data removed]",
      "text/plain": [
       "<Figure size 640x480 with 1 Axes>"
      ]
     },
     "metadata": {},
     "output_type": "display_data"
    }
   ],
   "source": [
    "fig, ax = plt.subplots()\n",
    "ax.add_patch(patch)\n",
    "ax.set_xlim(0, 600)\n",
    "ax.set_ylim(0, 600)\n",
    "plt.show()"
   ]
  }
 ],
 "metadata": {
  "kernelspec": {
   "display_name": "Python 3",
   "language": "python",
   "name": "python3"
  },
  "language_info": {
   "codemirror_mode": {
    "name": "ipython",
    "version": 3
   },
   "file_extension": ".py",
   "mimetype": "text/x-python",
   "name": "python",
   "nbconvert_exporter": "python",
   "pygments_lexer": "ipython3",
   "version": "3.10.9"
  }
 },
 "nbformat": 4,
 "nbformat_minor": 2
}
